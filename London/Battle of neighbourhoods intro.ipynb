{
 "cells": [
  {
   "cell_type": "markdown",
   "metadata": {},
   "source": [
    "# The Battle of Neighborhoods : London"
   ]
  },
  {
   "cell_type": "markdown",
   "metadata": {},
   "source": [
    "## *Where should you live in London?*"
   ]
  },
  {
   "cell_type": "markdown",
   "metadata": {},
   "source": [
    "### Problem Statement"
   ]
  },
  {
   "cell_type": "markdown",
   "metadata": {},
   "source": [
    "London is the second most populous city in Europe. In 2018/2019 approximately 450,000 people migrated to London [(source)](https://www.trustforlondon.org.uk/data/migration-over-time/#:~:text=Migration%20to%20and%20from%20London&text=Net%20migration%20into%20London%20from,under%2010%2C000%20in%202017%2F18). One of the biggest challenge of moving to London is to find a suitable accommodation. To begin their search, one must narrow down from the 32 boroughs of London, which span 1,572 km2 in area (Wikipedia), to a list of few boroughs they are interested to explore further.\n",
    "\n",
    "As there could be varying reasons for one to move to London, there could also be varying factors affecting one's decision to choose a borough over another. In this study, we use K-means clustering to group London boroughs into K groups based on the most common venue type. Furthermore, this information is overlayed on top of a (i) heatmap plot of crime prevalence and (ii) chloropleth plot of average (private) rental by borough. The two resulting plots would allow one to quickly narrow down their search into a few boroughs based on their preferences on rental price, venues, and safety tolerance."
   ]
  },
  {
   "cell_type": "markdown",
   "metadata": {},
   "source": [
    "### Data"
   ]
  },
  {
   "cell_type": "markdown",
   "metadata": {},
   "source": [
    "The dataset required to gain insights on the problem described are:\n",
    "* List of boroughs in London [(Wikipedia)](https://en.wikipedia.org/wiki/List_of_London_boroughs) will be scraped to extract coordinate data for each borough. Additionaly, the population per borough data will be considered as a normalizing parameter for crime counts.\n",
    "* Top 100 venues in each borough will be obtained via the [Foursquare](https://foursquare.com) API. K-means clustering will be used to produce venue-based grouping of London boroughs.\n",
    "* Crime statistics by borough [(London data store - recorded crime)](https://data.london.gov.uk/dataset/recorded_crime_summary)is in CSV format. The dataset contains records of crime based on its type and location for the past 24 months. This data will be visualized on a heatmap plot along with the venue-based cluster plotted as a point on the map.\n",
    "* Average private rent by borough [London data store - private rents](https://data.london.gov.uk/dataset/average-private-rents-borough) is presented in CSV format. The data will be visualized on a chloropleth plot along with the venue-based cluster plotted as a point on the map."
   ]
  },
  {
   "cell_type": "code",
   "execution_count": null,
   "metadata": {},
   "outputs": [],
   "source": []
  }
 ],
 "metadata": {
  "kernelspec": {
   "display_name": "Python 3",
   "language": "python",
   "name": "python3"
  },
  "language_info": {
   "codemirror_mode": {
    "name": "ipython",
    "version": 3
   },
   "file_extension": ".py",
   "mimetype": "text/x-python",
   "name": "python",
   "nbconvert_exporter": "python",
   "pygments_lexer": "ipython3",
   "version": "3.7.6"
  }
 },
 "nbformat": 4,
 "nbformat_minor": 4
}
